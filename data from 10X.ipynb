{
  "nbformat": 4,
  "nbformat_minor": 0,
  "metadata": {
    "colab": {
      "provenance": []
    },
    "kernelspec": {
      "name": "python3",
      "display_name": "Python 3"
    },
    "language_info": {
      "name": "python"
    }
  },
  "cells": [
    {
      "cell_type": "code",
      "execution_count": 14,
      "metadata": {
        "colab": {
          "base_uri": "https://localhost:8080/"
        },
        "id": "ngvC6IWsJGei",
        "outputId": "e5501d81-189d-4172-ed70-8b264ce96aba"
      },
      "outputs": [
        {
          "output_type": "stream",
          "name": "stdout",
          "text": [
            "Mounted at /content/drive\n"
          ]
        }
      ],
      "source": [
        "from google.colab import drive\n",
        "drive.mount('/content/drive')"
      ]
    },
    {
      "cell_type": "code",
      "source": [
        "!ls drive"
      ],
      "metadata": {
        "colab": {
          "base_uri": "https://localhost:8080/"
        },
        "id": "wT1I83EwJTT0",
        "outputId": "001d5802-7c45-498a-8f59-f1bfe474a86b"
      },
      "execution_count": 15,
      "outputs": [
        {
          "output_type": "stream",
          "name": "stdout",
          "text": [
            "ls: cannot access 'drive': No such file or directory\n"
          ]
        }
      ]
    },
    {
      "cell_type": "markdown",
      "source": [
        "____________________"
      ],
      "metadata": {
        "id": "bIOTetMtO-TM"
      }
    },
    {
      "cell_type": "markdown",
      "source": [
        "_________________"
      ],
      "metadata": {
        "id": "e1j1zHZ6O_tz"
      }
    },
    {
      "cell_type": "markdown",
      "source": [
        "_____________"
      ],
      "metadata": {
        "id": "ow-0FuG8PBDd"
      }
    },
    {
      "cell_type": "code",
      "source": [
        "import os\n",
        "os.chdir(\"/content/10X\")"
      ],
      "metadata": {
        "id": "iOdulB7hPpMg"
      },
      "execution_count": 29,
      "outputs": []
    },
    {
      "cell_type": "code",
      "source": [],
      "metadata": {
        "id": "YCtl6fAKP24j"
      },
      "execution_count": null,
      "outputs": []
    },
    {
      "cell_type": "code",
      "source": [
        "!wget https://cf.10xgenomics.com/samples/spatial-exp/2.0.0/CytAssist_FFPE_Human_Breast_Cancer/CytAssist_FFPE_Human_Breast_Cancer_spatial.tar.gz"
      ],
      "metadata": {
        "colab": {
          "base_uri": "https://localhost:8080/"
        },
        "id": "EPcFVPJvJq8M",
        "outputId": "0c78c418-aaa0-4310-ad25-faef954587da"
      },
      "execution_count": 20,
      "outputs": [
        {
          "output_type": "stream",
          "name": "stdout",
          "text": [
            "--2024-11-12 16:26:33--  https://cf.10xgenomics.com/samples/spatial-exp/2.0.0/CytAssist_FFPE_Human_Breast_Cancer/CytAssist_FFPE_Human_Breast_Cancer_spatial.tar.gz\n",
            "Resolving cf.10xgenomics.com (cf.10xgenomics.com)... 104.18.0.173, 104.18.1.173, 2606:4700::6812:ad, ...\n",
            "Connecting to cf.10xgenomics.com (cf.10xgenomics.com)|104.18.0.173|:443... connected.\n",
            "HTTP request sent, awaiting response... 200 OK\n",
            "Length: 34479952 (33M) [application/x-tar]\n",
            "Saving to: ‘CytAssist_FFPE_Human_Breast_Cancer_spatial.tar.gz’\n",
            "\n",
            "CytAssist_FFPE_Huma 100%[===================>]  32.88M   124MB/s    in 0.3s    \n",
            "\n",
            "2024-11-12 16:26:33 (124 MB/s) - ‘CytAssist_FFPE_Human_Breast_Cancer_spatial.tar.gz’ saved [34479952/34479952]\n",
            "\n"
          ]
        }
      ]
    },
    {
      "cell_type": "code",
      "source": [
        "!tar -xvzf /content/CytAssist_FFPE_Human_Breast_Cancer_spatial.tar.gz"
      ],
      "metadata": {
        "colab": {
          "base_uri": "https://localhost:8080/"
        },
        "id": "PEN6KVTuMkXh",
        "outputId": "8ae4ead1-b3e3-4add-f09c-47771ddc5d03"
      },
      "execution_count": 21,
      "outputs": [
        {
          "output_type": "stream",
          "name": "stdout",
          "text": [
            "spatial/\n",
            "spatial/detected_tissue_image.jpg\n",
            "spatial/spatial_enrichment.csv\n",
            "spatial/tissue_positions.csv\n",
            "spatial/aligned_tissue_image.jpg\n",
            "spatial/tissue_lowres_image.png\n",
            "spatial/cytassist_image.tiff\n",
            "spatial/scalefactors_json.json\n",
            "spatial/aligned_fiducials.jpg\n",
            "spatial/tissue_hires_image.png\n"
          ]
        }
      ]
    },
    {
      "cell_type": "code",
      "source": [
        "!mkdir /content/10X"
      ],
      "metadata": {
        "id": "2NKHi3IEVprc",
        "outputId": "a7d97d5b-4410-4ccd-ae8e-cc25c7c582cc",
        "colab": {
          "base_uri": "https://localhost:8080/"
        }
      },
      "execution_count": 9,
      "outputs": [
        {
          "output_type": "stream",
          "name": "stdout",
          "text": [
            "shell-init: error retrieving current directory: getcwd: cannot access parent directories: No such file or directory\n"
          ]
        }
      ]
    },
    {
      "cell_type": "code",
      "source": [
        "os.chdir(\"/content/10X\")"
      ],
      "metadata": {
        "id": "73rknkmJVr_j"
      },
      "execution_count": 10,
      "outputs": []
    },
    {
      "cell_type": "code",
      "source": [
        "import os\n",
        "import subprocess"
      ],
      "metadata": {
        "id": "IgeP3dUOQS8f"
      },
      "execution_count": 1,
      "outputs": []
    },
    {
      "cell_type": "code",
      "source": [
        "urls = [\n",
        "    \"https://cf.10xgenomics.com/samples/spatial-exp/2.1.0/CytAssist_FFPE_Protein_Expression_Human_Breast_Cancer/CytAssist_FFPE_Protein_Expression_Human_Breast_Cancer_spatial.tar.gz\",\n",
        "    \"https://cf.10xgenomics.com/samples/spatial-exp/2.0.1/CytAssist_Fresh_Frozen_Human_Breast_Cancer/CytAssist_Fresh_Frozen_Human_Breast_Cancer_spatial.tar.gz\",\n",
        "    \"https://cf.10xgenomics.com/samples/spatial-exp/1.3.0/Visium_Human_Breast_Cancer/Visium_Human_Breast_Cancer_spatial.tar.gz\",\n",
        "    \"https://cf.10xgenomics.com/samples/spatial-exp/1.3.0/Visium_FFPE_Human_Breast_Cancer/Visium_FFPE_Human_Breast_Cancer_spatial.tar.gz\",\n",
        "    \"https://cf.10xgenomics.com/samples/spatial-exp/1.2.0/V1_Human_Invasive_Ductal_Carcinoma/V1_Human_Invasive_Ductal_Carcinoma_spatial.tar.gz\",\n",
        "    \"https://cf.10xgenomics.com/samples/spatial-exp/1.2.0/Parent_Visium_Human_BreastCancer/Parent_Visium_Human_BreastCancer_spatial.tar.gz\",\n",
        "    \"https://cf.10xgenomics.com/samples/spatial-exp/1.2.0/Targeted_Visium_Human_BreastCancer_Immunology/Targeted_Visium_Human_BreastCancer_Immunology_spatial.tar.gz\",\n",
        "    \"https://cf.10xgenomics.com/samples/spatial-exp/1.1.0/V1_Breast_Cancer_Block_A_Section_2/V1_Breast_Cancer_Block_A_Section_2_spatial.tar.gz\",\n",
        "    \"https://cf.10xgenomics.com/samples/spatial-exp/1.1.0/V1_Breast_Cancer_Block_A_Section_1/V1_Breast_Cancer_Block_A_Section_1_spatial.tar.gz\",\n",
        "    \"https://cf.10xgenomics.com/samples/spatial-exp/1.0.0/V1_Breast_Cancer_Block_A_Section_2/V1_Breast_Cancer_Block_A_Section_2_spatial.tar.gz\",\n",
        "    \"https://cf.10xgenomics.com/samples/spatial-exp/1.0.0/V1_Breast_Cancer_Block_A_Section_1/V1_Breast_Cancer_Block_A_Section_1_spatial.tar.gz\"\n",
        "]"
      ],
      "metadata": {
        "id": "9loD66fhQWIm"
      },
      "execution_count": 4,
      "outputs": []
    },
    {
      "cell_type": "code",
      "source": [
        "\n",
        "for i, url in enumerate(urls, start=1):\n",
        "    folder_name = f\"V{i}\"\n",
        "    os.makedirs(folder_name, exist_ok=True)\n",
        "\n",
        "    download_command = f\"wget -P {folder_name} {url}\"\n",
        "    subprocess.run(download_command, shell=True)\n",
        "/V10/V1_Breast_Cancer_Block_A_Section_2_spatial.tar.gz"
      ],
      "metadata": {
        "colab": {
          "base_uri": "https://localhost:8080/",
          "height": 176
        },
        "id": "XbOiAjyHPHta",
        "outputId": "cafe0dd7-63ca-4e8f-b114-af28b614f38c"
      },
      "execution_count": 11,
      "outputs": [
        {
          "output_type": "error",
          "ename": "NameError",
          "evalue": "name 'V10' is not defined",
          "traceback": [
            "\u001b[0;31m---------------------------------------------------------------------------\u001b[0m",
            "\u001b[0;31mNameError\u001b[0m                                 Traceback (most recent call last)",
            "\u001b[0;32m<ipython-input-11-dbc893b491ad>\u001b[0m in \u001b[0;36m<cell line: 7>\u001b[0;34m()\u001b[0m\n\u001b[1;32m      5\u001b[0m     \u001b[0mdownload_command\u001b[0m \u001b[0;34m=\u001b[0m \u001b[0;34mf\"wget -P {folder_name} {url}\"\u001b[0m\u001b[0;34m\u001b[0m\u001b[0;34m\u001b[0m\u001b[0m\n\u001b[1;32m      6\u001b[0m     \u001b[0msubprocess\u001b[0m\u001b[0;34m.\u001b[0m\u001b[0mrun\u001b[0m\u001b[0;34m(\u001b[0m\u001b[0mdownload_command\u001b[0m\u001b[0;34m,\u001b[0m \u001b[0mshell\u001b[0m\u001b[0;34m=\u001b[0m\u001b[0;32mTrue\u001b[0m\u001b[0;34m)\u001b[0m\u001b[0;34m\u001b[0m\u001b[0;34m\u001b[0m\u001b[0m\n\u001b[0;32m----> 7\u001b[0;31m \u001b[0mV10\u001b[0m\u001b[0;34m/\u001b[0m\u001b[0mV1_Breast_Cancer_Block_A_Section_2_spatial\u001b[0m\u001b[0;34m.\u001b[0m\u001b[0mtar\u001b[0m\u001b[0;34m.\u001b[0m\u001b[0mgz\u001b[0m\u001b[0;34m(\u001b[0m\u001b[0;34m)\u001b[0m\u001b[0;34m\u001b[0m\u001b[0;34m\u001b[0m\u001b[0m\n\u001b[0m",
            "\u001b[0;31mNameError\u001b[0m: name 'V10' is not defined"
          ]
        }
      ]
    },
    {
      "cell_type": "code",
      "source": [
        "!tar -xvzf /content/10X/V11/V1_Breast_Cancer_Block_A_Section_1_spatial.tar.gz"
      ],
      "metadata": {
        "id": "ucs-rxIKTLQS",
        "outputId": "2cc547ac-047f-40c5-b6b4-9018f76c537f",
        "colab": {
          "base_uri": "https://localhost:8080/"
        }
      },
      "execution_count": 39,
      "outputs": [
        {
          "output_type": "stream",
          "name": "stdout",
          "text": [
            "spatial/\n",
            "spatial/aligned_fiducials.jpg\n",
            "spatial/tissue_positions_list.csv\n",
            "spatial/tissue_hires_image.png\n",
            "spatial/scalefactors_json.json\n",
            "spatial/tissue_lowres_image.png\n",
            "spatial/detected_tissue_image.jpg\n"
          ]
        }
      ]
    },
    {
      "cell_type": "code",
      "source": [
        "!find /content/10X -name \"*.tar.gz\" -execdir tar -xvzf {} \\;"
      ],
      "metadata": {
        "id": "_Gf9pL27UH2j",
        "outputId": "a0cbf931-d120-43bc-d2c6-2cfd96df2d21",
        "colab": {
          "base_uri": "https://localhost:8080/"
        }
      },
      "execution_count": 12,
      "outputs": [
        {
          "output_type": "stream",
          "name": "stdout",
          "text": [
            "spatial/\n",
            "spatial/tissue_positions_list.csv\n",
            "spatial/tissue_lowres_image.png\n",
            "spatial/tissue_hires_image.png\n",
            "spatial/scalefactors_json.json\n",
            "spatial/aligned_fiducials.jpg\n",
            "spatial/detected_tissue_image.jpg\n",
            "spatial/\n",
            "spatial/aligned_fiducials.jpg\n",
            "spatial/detected_tissue_image.jpg\n",
            "spatial/tissue_hires_image.png\n",
            "spatial/tissue_lowres_image.png\n",
            "spatial/scalefactors_json.json\n",
            "spatial/tissue_positions_list.csv\n",
            "spatial/\n",
            "spatial/scalefactors_json.json\n",
            "spatial/tissue_hires_image.png\n",
            "spatial/detected_tissue_image.jpg\n",
            "spatial/tissue_lowres_image.png\n",
            "spatial/aligned_fiducials.jpg\n",
            "spatial/tissue_positions_list.csv\n",
            "spatial/\n",
            "spatial/tissue_lowres_image.png\n",
            "spatial/detected_tissue_image.jpg\n",
            "spatial/aligned_fiducials.jpg\n",
            "spatial/tissue_hires_image.png\n",
            "spatial/scalefactors_json.json\n",
            "spatial/tissue_positions_list.csv\n",
            "spatial/\n",
            "spatial/scalefactors_json.json\n",
            "spatial/aligned_fiducials.jpg\n",
            "spatial/tissue_hires_image.png\n",
            "spatial/detected_tissue_image.jpg\n",
            "spatial/tissue_lowres_image.png\n",
            "spatial/tissue_positions_list.csv\n",
            "spatial/\n",
            "spatial/tissue_hires_image.png\n",
            "spatial/tissue_lowres_image.png\n",
            "spatial/scalefactors_json.json\n",
            "spatial/detected_tissue_image.jpg\n",
            "spatial/tissue_positions_list.csv\n",
            "spatial/aligned_fiducials.jpg\n",
            "spatial/\n",
            "spatial/barcode_fluorescence_intensity.csv\n",
            "spatial/tissue_lowres_image.png\n",
            "spatial/tissue_hires_image.png\n",
            "spatial/scalefactors_json.json\n",
            "spatial/aligned_tissue_image.jpg\n",
            "spatial/tissue_positions.csv\n",
            "spatial/aligned_fiducials.jpg\n",
            "spatial/spatial_enrichment.csv\n",
            "spatial/cytassist_image.tiff\n",
            "spatial/detected_tissue_image.jpg\n",
            "spatial/\n",
            "spatial/spatial_enrichment.csv\n",
            "spatial/cytassist_image.tiff\n",
            "spatial/aligned_tissue_image.jpg\n",
            "spatial/tissue_hires_image.png\n",
            "spatial/scalefactors_json.json\n",
            "spatial/tissue_lowres_image.png\n",
            "spatial/aligned_fiducials.jpg\n",
            "spatial/detected_tissue_image.jpg\n",
            "spatial/tissue_positions.csv\n",
            "spatial/\n",
            "spatial/scalefactors_json.json\n",
            "spatial/tissue_hires_image.png\n",
            "spatial/tissue_lowres_image.png\n",
            "spatial/detected_tissue_image.jpg\n",
            "spatial/aligned_fiducials.jpg\n",
            "spatial/tissue_positions_list.csv\n",
            "spatial/\n",
            "spatial/aligned_fiducials.jpg\n",
            "spatial/tissue_lowres_image.png\n",
            "spatial/tissue_positions_list.csv\n",
            "spatial/detected_tissue_image.jpg\n",
            "spatial/tissue_hires_image.png\n",
            "spatial/scalefactors_json.json\n",
            "spatial/\n",
            "spatial/aligned_fiducials.jpg\n",
            "spatial/tissue_positions_list.csv\n",
            "spatial/tissue_hires_image.png\n",
            "spatial/scalefactors_json.json\n",
            "spatial/tissue_lowres_image.png\n",
            "spatial/detected_tissue_image.jpg\n"
          ]
        }
      ]
    },
    {
      "cell_type": "code",
      "source": [
        "!find /content/10X -name \"*.tar.gz\" -exec rm {} +"
      ],
      "metadata": {
        "id": "bAfbgMulU3SR"
      },
      "execution_count": 13,
      "outputs": []
    },
    {
      "cell_type": "code",
      "source": [
        "!cp -r /content/10X \"/content/drive/MyDrive/ST project\""
      ],
      "metadata": {
        "id": "BppY8cLeX2yw"
      },
      "execution_count": 16,
      "outputs": []
    },
    {
      "cell_type": "code",
      "source": [],
      "metadata": {
        "id": "hVxg7sAOYLp5"
      },
      "execution_count": null,
      "outputs": []
    }
  ]
}
