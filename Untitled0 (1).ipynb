{
  "nbformat": 4,
  "nbformat_minor": 0,
  "metadata": {
    "colab": {
      "provenance": []
    },
    "kernelspec": {
      "name": "python3",
      "display_name": "Python 3"
    },
    "language_info": {
      "name": "python"
    }
  },
  "cells": [
    {
      "cell_type": "code",
      "source": [
        "import os\n"
      ],
      "metadata": {
        "id": "YwEICoSnkswC"
      },
      "execution_count": 32,
      "outputs": []
    },
    {
      "cell_type": "code",
      "execution_count": 17,
      "metadata": {
        "colab": {
          "base_uri": "https://localhost:8080/"
        },
        "id": "uHrjY9JlgNHc",
        "outputId": "eef7fb84-bfcc-4621-cb08-6a6d92b25327"
      },
      "outputs": [
        {
          "output_type": "stream",
          "name": "stdout",
          "text": [
            "Drive already mounted at /content/drive; to attempt to forcibly remount, call drive.mount(\"/content/drive\", force_remount=True).\n"
          ]
        }
      ],
      "source": [
        "from google.colab import drive\n",
        "drive.mount('/content/drive')\n"
      ]
    },
    {
      "cell_type": "code",
      "source": [
        "!ls drive/MyDrive/ST*"
      ],
      "metadata": {
        "colab": {
          "base_uri": "https://localhost:8080/"
        },
        "id": "fOW9VknqgzHD",
        "outputId": "72dc598c-fb1e-420c-806c-e3641dd93ca5"
      },
      "execution_count": 19,
      "outputs": [
        {
          "output_type": "stream",
          "name": "stdout",
          "text": [
            "'Coutant et al. (2023)'  'Honda et al. (2023)'\t'Mendely data'\t'ST data final final v19.xlsx'\n"
          ]
        }
      ]
    },
    {
      "cell_type": "code",
      "source": [
        "os.chdir(\"Coutant et al. (2023)\")\n"
      ],
      "metadata": {
        "id": "7_J8paDujCCm"
      },
      "execution_count": 33,
      "outputs": []
    },
    {
      "cell_type": "code",
      "source": [
        "!pwd"
      ],
      "metadata": {
        "colab": {
          "base_uri": "https://localhost:8080/"
        },
        "id": "C4S_yEIHkFME",
        "outputId": "3b6c4fa1-4968-48b2-880f-4e2a90fe736c"
      },
      "execution_count": 35,
      "outputs": [
        {
          "output_type": "stream",
          "name": "stdout",
          "text": [
            "/content/Coutant et al. (2023)\n"
          ]
        }
      ]
    },
    {
      "cell_type": "code",
      "source": [
        "import GEOparse\n"
      ],
      "metadata": {
        "id": "5XnrfVFsmsjh"
      },
      "execution_count": 2,
      "outputs": []
    },
    {
      "cell_type": "code",
      "source": [
        "geo= 'GSM5956095'\n",
        "# download the geo data\n",
        "geo_query = GEOparse.get_GEO(geo=geo)\n",
        "# inspecting the data\n",
        "print(geo_query)"
      ],
      "metadata": {
        "colab": {
          "base_uri": "https://localhost:8080/"
        },
        "id": "k5K1k6Vkl8DN",
        "outputId": "352a3214-461a-4c1f-ae03-5834860aaed1"
      },
      "execution_count": 16,
      "outputs": [
        {
          "output_type": "stream",
          "name": "stderr",
          "text": [
            "12-Nov-2024 02:02:52 DEBUG utils - Directory ./ already exists. Skipping.\n",
            "DEBUG:GEOparse:Directory ./ already exists. Skipping.\n",
            "12-Nov-2024 02:02:52 INFO GEOparse - Downloading http://www.ncbi.nlm.nih.gov/geo/query/acc.cgi?targ=self&acc=GSM5956095&form=text&view=full to ./GSM5956095.txt\n",
            "INFO:GEOparse:Downloading http://www.ncbi.nlm.nih.gov/geo/query/acc.cgi?targ=self&acc=GSM5956095&form=text&view=full to ./GSM5956095.txt\n",
            "12-Nov-2024 02:02:53 DEBUG downloader - Total size: 0\n",
            "DEBUG:GEOparse:Total size: 0\n",
            "12-Nov-2024 02:02:53 DEBUG downloader - md5: None\n",
            "DEBUG:GEOparse:md5: None\n",
            "3.09kB [00:00, 6.49MB/s]\n",
            "12-Nov-2024 02:02:53 DEBUG downloader - Moving /tmp/tmp99yzesou to /content/GSM5956095.txt\n",
            "DEBUG:GEOparse:Moving /tmp/tmp99yzesou to /content/GSM5956095.txt\n",
            "12-Nov-2024 02:02:53 DEBUG downloader - Successfully downloaded http://www.ncbi.nlm.nih.gov/geo/query/acc.cgi?targ=self&acc=GSM5956095&form=text&view=full\n",
            "DEBUG:GEOparse:Successfully downloaded http://www.ncbi.nlm.nih.gov/geo/query/acc.cgi?targ=self&acc=GSM5956095&form=text&view=full\n",
            "12-Nov-2024 02:02:53 INFO GEOparse - Parsing ./GSM5956095.txt: \n",
            "INFO:GEOparse:Parsing ./GSM5956095.txt: \n"
          ]
        },
        {
          "output_type": "stream",
          "name": "stdout",
          "text": [
            "<SAMPLE: GSM5956095>\n"
          ]
        }
      ]
    },
    {
      "cell_type": "code",
      "source": [
        "import pandas as pd\n",
        "path=geo+ \".txt\"\n",
        "data= pd.read_table(path)\n",
        "data"
      ],
      "metadata": {
        "colab": {
          "base_uri": "https://localhost:8080/",
          "height": 1000
        },
        "id": "Woliin5WonXQ",
        "outputId": "0f8bf3a9-88cb-4f87-ff1e-271e9d555208"
      },
      "execution_count": 17,
      "outputs": [
        {
          "output_type": "execute_result",
          "data": {
            "text/plain": [
              "                                 ^SAMPLE = GSM5956095\n",
              "0                             !Sample_title = BC-A ST\n",
              "1                  !Sample_geo_accession = GSM5956095\n",
              "2              !Sample_status = Public on Mar 19 2022\n",
              "3               !Sample_submission_date = Mar 16 2022\n",
              "4              !Sample_last_update_date = Mar 19 2022\n",
              "5                                  !Sample_type = SRA\n",
              "6                           !Sample_channel_count = 1\n",
              "7             !Sample_source_name_ch1 = Mammary Tumor\n",
              "8                 !Sample_organism_ch1 = Homo sapiens\n",
              "9                            !Sample_taxid_ch1 = 9606\n",
              "10       !Sample_characteristics_ch1 = gender: female\n",
              "11  !Sample_characteristics_ch1 = tissue: Primary ...\n",
              "12  !Sample_characteristics_ch1 = treatment: untre...\n",
              "13                   !Sample_molecule_ch1 = total RNA\n",
              "14  !Sample_extract_protocol_ch1 = single nucleus ...\n",
              "15  !Sample_extract_protocol_ch1 = RNA libraries w...\n",
              "16  !Sample_description = one sample from human pr...\n",
              "17  !Sample_data_processing = Read alignment and c...\n",
              "18     !Sample_data_processing = Genome_build: GRCh38\n",
              "19           !Sample_data_processing = Assembly: mm10\n",
              "20  !Sample_data_processing = Supplementary files ...\n",
              "21                     !Sample_platform_id = GPL24676\n",
              "22                !Sample_contact_name = Si-Qing,,Liu\n",
              "23   !Sample_contact_email = 2016302180112@whu.edu.cn\n",
              "24       !Sample_contact_institute = Wuhan university\n",
              "25  !Sample_contact_address = No.9 Zhang Zhidong Road\n",
              "26                       !Sample_contact_city = Wuhan\n",
              "27           !Sample_contact_zip/postal_code = 430000\n",
              "28                    !Sample_contact_country = China\n",
              "29   !Sample_instrument_model = Illumina NovaSeq 6000\n",
              "30                   !Sample_library_selection = cDNA\n",
              "31            !Sample_library_source = transcriptomic\n",
              "32                 !Sample_library_strategy = RNA-Seq\n",
              "33  !Sample_supplementary_file_1 = ftp://ftp.ncbi....\n",
              "34  !Sample_supplementary_file_2 = ftp://ftp.ncbi....\n",
              "35  !Sample_supplementary_file_3 = ftp://ftp.ncbi....\n",
              "36  !Sample_supplementary_file_4 = ftp://ftp.ncbi....\n",
              "37  !Sample_supplementary_file_5 = ftp://ftp.ncbi....\n",
              "38  !Sample_supplementary_file_6 = ftp://ftp.ncbi....\n",
              "39  !Sample_supplementary_file_7 = ftp://ftp.ncbi....\n",
              "40                      !Sample_series_id = GSE198745\n",
              "41                         !Sample_data_row_count = 0"
            ],
            "text/html": [
              "\n",
              "  <div id=\"df-6a6f1a23-2534-4b59-973f-bd802dc96dd8\" class=\"colab-df-container\">\n",
              "    <div>\n",
              "<style scoped>\n",
              "    .dataframe tbody tr th:only-of-type {\n",
              "        vertical-align: middle;\n",
              "    }\n",
              "\n",
              "    .dataframe tbody tr th {\n",
              "        vertical-align: top;\n",
              "    }\n",
              "\n",
              "    .dataframe thead th {\n",
              "        text-align: right;\n",
              "    }\n",
              "</style>\n",
              "<table border=\"1\" class=\"dataframe\">\n",
              "  <thead>\n",
              "    <tr style=\"text-align: right;\">\n",
              "      <th></th>\n",
              "      <th>^SAMPLE = GSM5956095</th>\n",
              "    </tr>\n",
              "  </thead>\n",
              "  <tbody>\n",
              "    <tr>\n",
              "      <th>0</th>\n",
              "      <td>!Sample_title = BC-A ST</td>\n",
              "    </tr>\n",
              "    <tr>\n",
              "      <th>1</th>\n",
              "      <td>!Sample_geo_accession = GSM5956095</td>\n",
              "    </tr>\n",
              "    <tr>\n",
              "      <th>2</th>\n",
              "      <td>!Sample_status = Public on Mar 19 2022</td>\n",
              "    </tr>\n",
              "    <tr>\n",
              "      <th>3</th>\n",
              "      <td>!Sample_submission_date = Mar 16 2022</td>\n",
              "    </tr>\n",
              "    <tr>\n",
              "      <th>4</th>\n",
              "      <td>!Sample_last_update_date = Mar 19 2022</td>\n",
              "    </tr>\n",
              "    <tr>\n",
              "      <th>5</th>\n",
              "      <td>!Sample_type = SRA</td>\n",
              "    </tr>\n",
              "    <tr>\n",
              "      <th>6</th>\n",
              "      <td>!Sample_channel_count = 1</td>\n",
              "    </tr>\n",
              "    <tr>\n",
              "      <th>7</th>\n",
              "      <td>!Sample_source_name_ch1 = Mammary Tumor</td>\n",
              "    </tr>\n",
              "    <tr>\n",
              "      <th>8</th>\n",
              "      <td>!Sample_organism_ch1 = Homo sapiens</td>\n",
              "    </tr>\n",
              "    <tr>\n",
              "      <th>9</th>\n",
              "      <td>!Sample_taxid_ch1 = 9606</td>\n",
              "    </tr>\n",
              "    <tr>\n",
              "      <th>10</th>\n",
              "      <td>!Sample_characteristics_ch1 = gender: female</td>\n",
              "    </tr>\n",
              "    <tr>\n",
              "      <th>11</th>\n",
              "      <td>!Sample_characteristics_ch1 = tissue: Primary ...</td>\n",
              "    </tr>\n",
              "    <tr>\n",
              "      <th>12</th>\n",
              "      <td>!Sample_characteristics_ch1 = treatment: untre...</td>\n",
              "    </tr>\n",
              "    <tr>\n",
              "      <th>13</th>\n",
              "      <td>!Sample_molecule_ch1 = total RNA</td>\n",
              "    </tr>\n",
              "    <tr>\n",
              "      <th>14</th>\n",
              "      <td>!Sample_extract_protocol_ch1 = single nucleus ...</td>\n",
              "    </tr>\n",
              "    <tr>\n",
              "      <th>15</th>\n",
              "      <td>!Sample_extract_protocol_ch1 = RNA libraries w...</td>\n",
              "    </tr>\n",
              "    <tr>\n",
              "      <th>16</th>\n",
              "      <td>!Sample_description = one sample from human pr...</td>\n",
              "    </tr>\n",
              "    <tr>\n",
              "      <th>17</th>\n",
              "      <td>!Sample_data_processing = Read alignment and c...</td>\n",
              "    </tr>\n",
              "    <tr>\n",
              "      <th>18</th>\n",
              "      <td>!Sample_data_processing = Genome_build: GRCh38</td>\n",
              "    </tr>\n",
              "    <tr>\n",
              "      <th>19</th>\n",
              "      <td>!Sample_data_processing = Assembly: mm10</td>\n",
              "    </tr>\n",
              "    <tr>\n",
              "      <th>20</th>\n",
              "      <td>!Sample_data_processing = Supplementary files ...</td>\n",
              "    </tr>\n",
              "    <tr>\n",
              "      <th>21</th>\n",
              "      <td>!Sample_platform_id = GPL24676</td>\n",
              "    </tr>\n",
              "    <tr>\n",
              "      <th>22</th>\n",
              "      <td>!Sample_contact_name = Si-Qing,,Liu</td>\n",
              "    </tr>\n",
              "    <tr>\n",
              "      <th>23</th>\n",
              "      <td>!Sample_contact_email = 2016302180112@whu.edu.cn</td>\n",
              "    </tr>\n",
              "    <tr>\n",
              "      <th>24</th>\n",
              "      <td>!Sample_contact_institute = Wuhan university</td>\n",
              "    </tr>\n",
              "    <tr>\n",
              "      <th>25</th>\n",
              "      <td>!Sample_contact_address = No.9 Zhang Zhidong Road</td>\n",
              "    </tr>\n",
              "    <tr>\n",
              "      <th>26</th>\n",
              "      <td>!Sample_contact_city = Wuhan</td>\n",
              "    </tr>\n",
              "    <tr>\n",
              "      <th>27</th>\n",
              "      <td>!Sample_contact_zip/postal_code = 430000</td>\n",
              "    </tr>\n",
              "    <tr>\n",
              "      <th>28</th>\n",
              "      <td>!Sample_contact_country = China</td>\n",
              "    </tr>\n",
              "    <tr>\n",
              "      <th>29</th>\n",
              "      <td>!Sample_instrument_model = Illumina NovaSeq 6000</td>\n",
              "    </tr>\n",
              "    <tr>\n",
              "      <th>30</th>\n",
              "      <td>!Sample_library_selection = cDNA</td>\n",
              "    </tr>\n",
              "    <tr>\n",
              "      <th>31</th>\n",
              "      <td>!Sample_library_source = transcriptomic</td>\n",
              "    </tr>\n",
              "    <tr>\n",
              "      <th>32</th>\n",
              "      <td>!Sample_library_strategy = RNA-Seq</td>\n",
              "    </tr>\n",
              "    <tr>\n",
              "      <th>33</th>\n",
              "      <td>!Sample_supplementary_file_1 = ftp://ftp.ncbi....</td>\n",
              "    </tr>\n",
              "    <tr>\n",
              "      <th>34</th>\n",
              "      <td>!Sample_supplementary_file_2 = ftp://ftp.ncbi....</td>\n",
              "    </tr>\n",
              "    <tr>\n",
              "      <th>35</th>\n",
              "      <td>!Sample_supplementary_file_3 = ftp://ftp.ncbi....</td>\n",
              "    </tr>\n",
              "    <tr>\n",
              "      <th>36</th>\n",
              "      <td>!Sample_supplementary_file_4 = ftp://ftp.ncbi....</td>\n",
              "    </tr>\n",
              "    <tr>\n",
              "      <th>37</th>\n",
              "      <td>!Sample_supplementary_file_5 = ftp://ftp.ncbi....</td>\n",
              "    </tr>\n",
              "    <tr>\n",
              "      <th>38</th>\n",
              "      <td>!Sample_supplementary_file_6 = ftp://ftp.ncbi....</td>\n",
              "    </tr>\n",
              "    <tr>\n",
              "      <th>39</th>\n",
              "      <td>!Sample_supplementary_file_7 = ftp://ftp.ncbi....</td>\n",
              "    </tr>\n",
              "    <tr>\n",
              "      <th>40</th>\n",
              "      <td>!Sample_series_id = GSE198745</td>\n",
              "    </tr>\n",
              "    <tr>\n",
              "      <th>41</th>\n",
              "      <td>!Sample_data_row_count = 0</td>\n",
              "    </tr>\n",
              "  </tbody>\n",
              "</table>\n",
              "</div>\n",
              "    <div class=\"colab-df-buttons\">\n",
              "\n",
              "  <div class=\"colab-df-container\">\n",
              "    <button class=\"colab-df-convert\" onclick=\"convertToInteractive('df-6a6f1a23-2534-4b59-973f-bd802dc96dd8')\"\n",
              "            title=\"Convert this dataframe to an interactive table.\"\n",
              "            style=\"display:none;\">\n",
              "\n",
              "  <svg xmlns=\"http://www.w3.org/2000/svg\" height=\"24px\" viewBox=\"0 -960 960 960\">\n",
              "    <path d=\"M120-120v-720h720v720H120Zm60-500h600v-160H180v160Zm220 220h160v-160H400v160Zm0 220h160v-160H400v160ZM180-400h160v-160H180v160Zm440 0h160v-160H620v160ZM180-180h160v-160H180v160Zm440 0h160v-160H620v160Z\"/>\n",
              "  </svg>\n",
              "    </button>\n",
              "\n",
              "  <style>\n",
              "    .colab-df-container {\n",
              "      display:flex;\n",
              "      gap: 12px;\n",
              "    }\n",
              "\n",
              "    .colab-df-convert {\n",
              "      background-color: #E8F0FE;\n",
              "      border: none;\n",
              "      border-radius: 50%;\n",
              "      cursor: pointer;\n",
              "      display: none;\n",
              "      fill: #1967D2;\n",
              "      height: 32px;\n",
              "      padding: 0 0 0 0;\n",
              "      width: 32px;\n",
              "    }\n",
              "\n",
              "    .colab-df-convert:hover {\n",
              "      background-color: #E2EBFA;\n",
              "      box-shadow: 0px 1px 2px rgba(60, 64, 67, 0.3), 0px 1px 3px 1px rgba(60, 64, 67, 0.15);\n",
              "      fill: #174EA6;\n",
              "    }\n",
              "\n",
              "    .colab-df-buttons div {\n",
              "      margin-bottom: 4px;\n",
              "    }\n",
              "\n",
              "    [theme=dark] .colab-df-convert {\n",
              "      background-color: #3B4455;\n",
              "      fill: #D2E3FC;\n",
              "    }\n",
              "\n",
              "    [theme=dark] .colab-df-convert:hover {\n",
              "      background-color: #434B5C;\n",
              "      box-shadow: 0px 1px 3px 1px rgba(0, 0, 0, 0.15);\n",
              "      filter: drop-shadow(0px 1px 2px rgba(0, 0, 0, 0.3));\n",
              "      fill: #FFFFFF;\n",
              "    }\n",
              "  </style>\n",
              "\n",
              "    <script>\n",
              "      const buttonEl =\n",
              "        document.querySelector('#df-6a6f1a23-2534-4b59-973f-bd802dc96dd8 button.colab-df-convert');\n",
              "      buttonEl.style.display =\n",
              "        google.colab.kernel.accessAllowed ? 'block' : 'none';\n",
              "\n",
              "      async function convertToInteractive(key) {\n",
              "        const element = document.querySelector('#df-6a6f1a23-2534-4b59-973f-bd802dc96dd8');\n",
              "        const dataTable =\n",
              "          await google.colab.kernel.invokeFunction('convertToInteractive',\n",
              "                                                    [key], {});\n",
              "        if (!dataTable) return;\n",
              "\n",
              "        const docLinkHtml = 'Like what you see? Visit the ' +\n",
              "          '<a target=\"_blank\" href=https://colab.research.google.com/notebooks/data_table.ipynb>data table notebook</a>'\n",
              "          + ' to learn more about interactive tables.';\n",
              "        element.innerHTML = '';\n",
              "        dataTable['output_type'] = 'display_data';\n",
              "        await google.colab.output.renderOutput(dataTable, element);\n",
              "        const docLink = document.createElement('div');\n",
              "        docLink.innerHTML = docLinkHtml;\n",
              "        element.appendChild(docLink);\n",
              "      }\n",
              "    </script>\n",
              "  </div>\n",
              "\n",
              "\n",
              "<div id=\"df-dfa2a780-e26f-499a-906d-b41912f48902\">\n",
              "  <button class=\"colab-df-quickchart\" onclick=\"quickchart('df-dfa2a780-e26f-499a-906d-b41912f48902')\"\n",
              "            title=\"Suggest charts\"\n",
              "            style=\"display:none;\">\n",
              "\n",
              "<svg xmlns=\"http://www.w3.org/2000/svg\" height=\"24px\"viewBox=\"0 0 24 24\"\n",
              "     width=\"24px\">\n",
              "    <g>\n",
              "        <path d=\"M19 3H5c-1.1 0-2 .9-2 2v14c0 1.1.9 2 2 2h14c1.1 0 2-.9 2-2V5c0-1.1-.9-2-2-2zM9 17H7v-7h2v7zm4 0h-2V7h2v10zm4 0h-2v-4h2v4z\"/>\n",
              "    </g>\n",
              "</svg>\n",
              "  </button>\n",
              "\n",
              "<style>\n",
              "  .colab-df-quickchart {\n",
              "      --bg-color: #E8F0FE;\n",
              "      --fill-color: #1967D2;\n",
              "      --hover-bg-color: #E2EBFA;\n",
              "      --hover-fill-color: #174EA6;\n",
              "      --disabled-fill-color: #AAA;\n",
              "      --disabled-bg-color: #DDD;\n",
              "  }\n",
              "\n",
              "  [theme=dark] .colab-df-quickchart {\n",
              "      --bg-color: #3B4455;\n",
              "      --fill-color: #D2E3FC;\n",
              "      --hover-bg-color: #434B5C;\n",
              "      --hover-fill-color: #FFFFFF;\n",
              "      --disabled-bg-color: #3B4455;\n",
              "      --disabled-fill-color: #666;\n",
              "  }\n",
              "\n",
              "  .colab-df-quickchart {\n",
              "    background-color: var(--bg-color);\n",
              "    border: none;\n",
              "    border-radius: 50%;\n",
              "    cursor: pointer;\n",
              "    display: none;\n",
              "    fill: var(--fill-color);\n",
              "    height: 32px;\n",
              "    padding: 0;\n",
              "    width: 32px;\n",
              "  }\n",
              "\n",
              "  .colab-df-quickchart:hover {\n",
              "    background-color: var(--hover-bg-color);\n",
              "    box-shadow: 0 1px 2px rgba(60, 64, 67, 0.3), 0 1px 3px 1px rgba(60, 64, 67, 0.15);\n",
              "    fill: var(--button-hover-fill-color);\n",
              "  }\n",
              "\n",
              "  .colab-df-quickchart-complete:disabled,\n",
              "  .colab-df-quickchart-complete:disabled:hover {\n",
              "    background-color: var(--disabled-bg-color);\n",
              "    fill: var(--disabled-fill-color);\n",
              "    box-shadow: none;\n",
              "  }\n",
              "\n",
              "  .colab-df-spinner {\n",
              "    border: 2px solid var(--fill-color);\n",
              "    border-color: transparent;\n",
              "    border-bottom-color: var(--fill-color);\n",
              "    animation:\n",
              "      spin 1s steps(1) infinite;\n",
              "  }\n",
              "\n",
              "  @keyframes spin {\n",
              "    0% {\n",
              "      border-color: transparent;\n",
              "      border-bottom-color: var(--fill-color);\n",
              "      border-left-color: var(--fill-color);\n",
              "    }\n",
              "    20% {\n",
              "      border-color: transparent;\n",
              "      border-left-color: var(--fill-color);\n",
              "      border-top-color: var(--fill-color);\n",
              "    }\n",
              "    30% {\n",
              "      border-color: transparent;\n",
              "      border-left-color: var(--fill-color);\n",
              "      border-top-color: var(--fill-color);\n",
              "      border-right-color: var(--fill-color);\n",
              "    }\n",
              "    40% {\n",
              "      border-color: transparent;\n",
              "      border-right-color: var(--fill-color);\n",
              "      border-top-color: var(--fill-color);\n",
              "    }\n",
              "    60% {\n",
              "      border-color: transparent;\n",
              "      border-right-color: var(--fill-color);\n",
              "    }\n",
              "    80% {\n",
              "      border-color: transparent;\n",
              "      border-right-color: var(--fill-color);\n",
              "      border-bottom-color: var(--fill-color);\n",
              "    }\n",
              "    90% {\n",
              "      border-color: transparent;\n",
              "      border-bottom-color: var(--fill-color);\n",
              "    }\n",
              "  }\n",
              "</style>\n",
              "\n",
              "  <script>\n",
              "    async function quickchart(key) {\n",
              "      const quickchartButtonEl =\n",
              "        document.querySelector('#' + key + ' button');\n",
              "      quickchartButtonEl.disabled = true;  // To prevent multiple clicks.\n",
              "      quickchartButtonEl.classList.add('colab-df-spinner');\n",
              "      try {\n",
              "        const charts = await google.colab.kernel.invokeFunction(\n",
              "            'suggestCharts', [key], {});\n",
              "      } catch (error) {\n",
              "        console.error('Error during call to suggestCharts:', error);\n",
              "      }\n",
              "      quickchartButtonEl.classList.remove('colab-df-spinner');\n",
              "      quickchartButtonEl.classList.add('colab-df-quickchart-complete');\n",
              "    }\n",
              "    (() => {\n",
              "      let quickchartButtonEl =\n",
              "        document.querySelector('#df-dfa2a780-e26f-499a-906d-b41912f48902 button');\n",
              "      quickchartButtonEl.style.display =\n",
              "        google.colab.kernel.accessAllowed ? 'block' : 'none';\n",
              "    })();\n",
              "  </script>\n",
              "</div>\n",
              "\n",
              "  <div id=\"id_373fcd77-173f-4316-9eb2-f72750fc28a6\">\n",
              "    <style>\n",
              "      .colab-df-generate {\n",
              "        background-color: #E8F0FE;\n",
              "        border: none;\n",
              "        border-radius: 50%;\n",
              "        cursor: pointer;\n",
              "        display: none;\n",
              "        fill: #1967D2;\n",
              "        height: 32px;\n",
              "        padding: 0 0 0 0;\n",
              "        width: 32px;\n",
              "      }\n",
              "\n",
              "      .colab-df-generate:hover {\n",
              "        background-color: #E2EBFA;\n",
              "        box-shadow: 0px 1px 2px rgba(60, 64, 67, 0.3), 0px 1px 3px 1px rgba(60, 64, 67, 0.15);\n",
              "        fill: #174EA6;\n",
              "      }\n",
              "\n",
              "      [theme=dark] .colab-df-generate {\n",
              "        background-color: #3B4455;\n",
              "        fill: #D2E3FC;\n",
              "      }\n",
              "\n",
              "      [theme=dark] .colab-df-generate:hover {\n",
              "        background-color: #434B5C;\n",
              "        box-shadow: 0px 1px 3px 1px rgba(0, 0, 0, 0.15);\n",
              "        filter: drop-shadow(0px 1px 2px rgba(0, 0, 0, 0.3));\n",
              "        fill: #FFFFFF;\n",
              "      }\n",
              "    </style>\n",
              "    <button class=\"colab-df-generate\" onclick=\"generateWithVariable('data')\"\n",
              "            title=\"Generate code using this dataframe.\"\n",
              "            style=\"display:none;\">\n",
              "\n",
              "  <svg xmlns=\"http://www.w3.org/2000/svg\" height=\"24px\"viewBox=\"0 0 24 24\"\n",
              "       width=\"24px\">\n",
              "    <path d=\"M7,19H8.4L18.45,9,17,7.55,7,17.6ZM5,21V16.75L18.45,3.32a2,2,0,0,1,2.83,0l1.4,1.43a1.91,1.91,0,0,1,.58,1.4,1.91,1.91,0,0,1-.58,1.4L9.25,21ZM18.45,9,17,7.55Zm-12,3A5.31,5.31,0,0,0,4.9,8.1,5.31,5.31,0,0,0,1,6.5,5.31,5.31,0,0,0,4.9,4.9,5.31,5.31,0,0,0,6.5,1,5.31,5.31,0,0,0,8.1,4.9,5.31,5.31,0,0,0,12,6.5,5.46,5.46,0,0,0,6.5,12Z\"/>\n",
              "  </svg>\n",
              "    </button>\n",
              "    <script>\n",
              "      (() => {\n",
              "      const buttonEl =\n",
              "        document.querySelector('#id_373fcd77-173f-4316-9eb2-f72750fc28a6 button.colab-df-generate');\n",
              "      buttonEl.style.display =\n",
              "        google.colab.kernel.accessAllowed ? 'block' : 'none';\n",
              "\n",
              "      buttonEl.onclick = () => {\n",
              "        google.colab.notebook.generateWithVariable('data');\n",
              "      }\n",
              "      })();\n",
              "    </script>\n",
              "  </div>\n",
              "\n",
              "    </div>\n",
              "  </div>\n"
            ],
            "application/vnd.google.colaboratory.intrinsic+json": {
              "type": "dataframe",
              "variable_name": "data",
              "summary": "{\n  \"name\": \"data\",\n  \"rows\": 42,\n  \"fields\": [\n    {\n      \"column\": \"^SAMPLE = GSM5956095\",\n      \"properties\": {\n        \"dtype\": \"string\",\n        \"num_unique_values\": 42,\n        \"samples\": [\n          \"!Sample_contact_address = No.9 Zhang Zhidong Road\",\n          \"!Sample_molecule_ch1 = total RNA\",\n          \"!Sample_organism_ch1 = Homo sapiens\"\n        ],\n        \"semantic_type\": \"\",\n        \"description\": \"\"\n      }\n    }\n  ]\n}"
            }
          },
          "metadata": {},
          "execution_count": 17
        }
      ]
    },
    {
      "cell_type": "code",
      "source": [
        "import os\n",
        "# extracting the links of the files\n",
        "for value in data.iloc[:, 0]:\n",
        "  if 'Sample_title' in value:\n",
        "    output_dir= value.split(' = ')[1]\n",
        "os.makedirs(output_dir, exist_ok=True)"
      ],
      "metadata": {
        "id": "tAnUdYbD4VAx"
      },
      "execution_count": 18,
      "outputs": []
    },
    {
      "cell_type": "code",
      "source": [
        "# extracting the links of the files\n",
        "links= []\n",
        "for value in data.iloc[:, 0]:\n",
        "  if 'Sample_supplementary_file' in value:\n",
        "    links.append(value)\n",
        "for link in links:\n",
        "  print(link)"
      ],
      "metadata": {
        "colab": {
          "base_uri": "https://localhost:8080/"
        },
        "id": "FlQ3_qYmyAcg",
        "outputId": "11d538a7-0f3a-4202-b43d-f1752569b6cd"
      },
      "execution_count": 19,
      "outputs": [
        {
          "output_type": "stream",
          "name": "stdout",
          "text": [
            "!Sample_supplementary_file_1 = ftp://ftp.ncbi.nlm.nih.gov/geo/samples/GSM5956nnn/GSM5956095/suppl/GSM5956095_BC-A_ST_HE.png.gz\n",
            "!Sample_supplementary_file_2 = ftp://ftp.ncbi.nlm.nih.gov/geo/samples/GSM5956nnn/GSM5956095/suppl/GSM5956095_BC-A_ST_aligned_fiducials.jpg.gz\n",
            "!Sample_supplementary_file_3 = ftp://ftp.ncbi.nlm.nih.gov/geo/samples/GSM5956nnn/GSM5956095/suppl/GSM5956095_BC-A_ST_barcodes.tsv.gz\n",
            "!Sample_supplementary_file_4 = ftp://ftp.ncbi.nlm.nih.gov/geo/samples/GSM5956nnn/GSM5956095/suppl/GSM5956095_BC-A_ST_detected_tissue_image.jpg.gz\n",
            "!Sample_supplementary_file_5 = ftp://ftp.ncbi.nlm.nih.gov/geo/samples/GSM5956nnn/GSM5956095/suppl/GSM5956095_BC-A_ST_features.tsv.gz\n",
            "!Sample_supplementary_file_6 = ftp://ftp.ncbi.nlm.nih.gov/geo/samples/GSM5956nnn/GSM5956095/suppl/GSM5956095_BC-A_ST_matrix.mtx.gz\n",
            "!Sample_supplementary_file_7 = ftp://ftp.ncbi.nlm.nih.gov/geo/samples/GSM5956nnn/GSM5956095/suppl/GSM5956095_BC-A_ST_tissue_positions_list.csv.gz\n"
          ]
        }
      ]
    },
    {
      "cell_type": "code",
      "source": [
        "# extracting ftp link\n",
        "ftps= []\n",
        "for link in links:\n",
        "  ftp= link.split('ftp://')[1]\n",
        "  ftps.append(ftp)\n",
        "for ftp in ftps:\n",
        "  print(ftp)"
      ],
      "metadata": {
        "colab": {
          "base_uri": "https://localhost:8080/"
        },
        "id": "h2_vDv_AzQ8c",
        "outputId": "76357911-ee09-467a-d216-bc1bcea5392f"
      },
      "execution_count": 20,
      "outputs": [
        {
          "output_type": "stream",
          "name": "stdout",
          "text": [
            "ftp.ncbi.nlm.nih.gov/geo/samples/GSM5956nnn/GSM5956095/suppl/GSM5956095_BC-A_ST_HE.png.gz\n",
            "ftp.ncbi.nlm.nih.gov/geo/samples/GSM5956nnn/GSM5956095/suppl/GSM5956095_BC-A_ST_aligned_fiducials.jpg.gz\n",
            "ftp.ncbi.nlm.nih.gov/geo/samples/GSM5956nnn/GSM5956095/suppl/GSM5956095_BC-A_ST_barcodes.tsv.gz\n",
            "ftp.ncbi.nlm.nih.gov/geo/samples/GSM5956nnn/GSM5956095/suppl/GSM5956095_BC-A_ST_detected_tissue_image.jpg.gz\n",
            "ftp.ncbi.nlm.nih.gov/geo/samples/GSM5956nnn/GSM5956095/suppl/GSM5956095_BC-A_ST_features.tsv.gz\n",
            "ftp.ncbi.nlm.nih.gov/geo/samples/GSM5956nnn/GSM5956095/suppl/GSM5956095_BC-A_ST_matrix.mtx.gz\n",
            "ftp.ncbi.nlm.nih.gov/geo/samples/GSM5956nnn/GSM5956095/suppl/GSM5956095_BC-A_ST_tissue_positions_list.csv.gz\n"
          ]
        }
      ]
    },
    {
      "cell_type": "code",
      "source": [
        "from ftplib import FTP"
      ],
      "metadata": {
        "id": "NgCqYnmj07Wo"
      },
      "execution_count": 21,
      "outputs": []
    },
    {
      "cell_type": "code",
      "source": [
        "c=0\n",
        "for ftp in ftps:\n",
        "  # Extract the FTP server and path\n",
        "  ftp_server, file_path = ftp.split('/', 1)\n",
        "  # Connect to the FTP server\n",
        "  ftp = FTP(ftp_server)\n",
        "  ftp.login()\n",
        "\n",
        "  ftp.cwd(file_path.rsplit('/', 1)[0])  # Get the directory part of the path\n",
        "\n",
        "  # Download the specific file\n",
        "  os.makedirs(output_dir, exist_ok=True)\n",
        "\n",
        "  filename = file_path.split('/')[-1]  # Extract the file name from the path\n",
        "\n",
        "  with open(os.path.join(output_dir, filename), 'wb') as f:\n",
        "      ftp.retrbinary(f\"RETR {filename}\", f.write)\n",
        "\n",
        "  # Close the FTP connection\n",
        "  ftp.quit()\n",
        "\n",
        "  print(f\"Downloaded {filename} to {output_dir}\")\n",
        "  c+=1\n",
        "print(f'downloaded {c} files')\n"
      ],
      "metadata": {
        "colab": {
          "base_uri": "https://localhost:8080/"
        },
        "id": "ihUwPhBc0_xP",
        "outputId": "5a27f546-98d5-466b-c45b-d00ccb4cd7af"
      },
      "execution_count": 22,
      "outputs": [
        {
          "output_type": "stream",
          "name": "stdout",
          "text": [
            "Downloaded GSM5956095_BC-A_ST_HE.png.gz to BC-A ST\n",
            "Downloaded GSM5956095_BC-A_ST_aligned_fiducials.jpg.gz to BC-A ST\n",
            "Downloaded GSM5956095_BC-A_ST_barcodes.tsv.gz to BC-A ST\n",
            "Downloaded GSM5956095_BC-A_ST_detected_tissue_image.jpg.gz to BC-A ST\n",
            "Downloaded GSM5956095_BC-A_ST_features.tsv.gz to BC-A ST\n",
            "Downloaded GSM5956095_BC-A_ST_matrix.mtx.gz to BC-A ST\n",
            "Downloaded GSM5956095_BC-A_ST_tissue_positions_list.csv.gz to BC-A ST\n",
            "downloaded 7 files\n"
          ]
        }
      ]
    },
    {
      "cell_type": "code",
      "source": [
        "!ls"
      ],
      "metadata": {
        "colab": {
          "base_uri": "https://localhost:8080/"
        },
        "id": "F07zgFiC7ZuZ",
        "outputId": "10b52b96-1c3d-41ff-8e8a-2408b7eb5ef4"
      },
      "execution_count": 12,
      "outputs": [
        {
          "output_type": "stream",
          "name": "stdout",
          "text": [
            "drive  GSM6592057.txt  M10_CL-like4\n"
          ]
        }
      ]
    },
    {
      "cell_type": "code",
      "source": [
        "!rm GSM6592057.txt"
      ],
      "metadata": {
        "id": "xLITMRNOAIHt"
      },
      "execution_count": 24,
      "outputs": []
    },
    {
      "cell_type": "code",
      "source": [
        "!cp -r \"/content/BC-A ST\" \"/content/drive/MyDrive/ST project/S. Liu et al. (2022)\""
      ],
      "metadata": {
        "id": "VZYJEDwlAZO-"
      },
      "execution_count": 23,
      "outputs": []
    },
    {
      "cell_type": "code",
      "source": [],
      "metadata": {
        "id": "Z82aCGLmC_ya"
      },
      "execution_count": null,
      "outputs": []
    }
  ]
}